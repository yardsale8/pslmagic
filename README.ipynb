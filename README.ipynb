{
 "metadata": {
  "name": ""
 },
 "nbformat": 3,
 "nbformat_minor": 0,
 "worksheets": [
  {
   "cells": [
    {
     "cell_type": "code",
     "collapsed": false,
     "input": [
      "%reload_ext pslmagic"
     ],
     "language": "python",
     "metadata": {},
     "outputs": [
      {
       "output_type": "stream",
       "stream": "stdout",
       "text": [
        "WARNING:Please register the address of the ParselTongue executable            using %psl_exe <address>\n"
       ]
      }
     ],
     "prompt_number": 29
    },
    {
     "cell_type": "code",
     "collapsed": false,
     "input": [
      "%psl_exe /Users/tiverson/Desktop/osx-dist/bin/assignment1-osx"
     ],
     "language": "python",
     "metadata": {},
     "outputs": [],
     "prompt_number": 30
    },
    {
     "cell_type": "code",
     "collapsed": false,
     "input": [
      "%psl +(40, 2)"
     ],
     "language": "python",
     "metadata": {},
     "outputs": [
      {
       "output_type": "stream",
       "stream": "stdout",
       "text": [
        "42\n",
        "\n"
       ]
      }
     ],
     "prompt_number": 32
    },
    {
     "cell_type": "code",
     "collapsed": false,
     "input": [
      "%psl 5;7"
     ],
     "language": "python",
     "metadata": {},
     "outputs": [
      {
       "ename": "SyntaxError",
       "evalue": "Encountered error while parsing, near: \"\" [line=#f, column=#f, position=#f]\n",
       "output_type": "pyerr",
       "traceback": [
        "\u001b[0;36m  File \u001b[0;32m\"<string>\"\u001b[0;36m, line \u001b[0;32munknown\u001b[0m\n\u001b[0;31mSyntaxError\u001b[0m\u001b[0;31m:\u001b[0m Encountered error while parsing, near: \"\" [line=#f, column=#f, position=#f]\n\n"
       ]
      }
     ],
     "prompt_number": 33
    },
    {
     "cell_type": "code",
     "collapsed": false,
     "input": [
      "%%psl\n",
      "# deffun defines a recursive function\n",
      "deffun fib(n)\n",
      "  # operators like + and == are prefix\n",
      "  if <(n, 1) then 0 else\n",
      "  if ==(n, 1) then 1 else\n",
      "  +(fib(-(n, 1)), fib(-(n, 2)))\n",
      "# The in ends the function body in a deffun, which can be followed by\n",
      "# another deffun, a defvar, or a braced expression\n",
      "in\n",
      "# defvar creates a new variable with an initial value, bound inside the\n",
      "# body of the defvar\n",
      "defvar x = 0 in {\n",
      "  # For loops have an initialization, a test, an update, and a body\n",
      "  for(x = 0; <(x,10); x++) {\n",
      "    # print takes any value and displays it\n",
      "    print(fib(x));\n",
      "    print(\" \");\n",
      "  };\n",
      "  # The result of the program is the value of the last expression\n",
      "  # evaluated.  It is printed, so we avoid printing it by terminating the\n",
      "  # program with a \"\"\n",
      "  \"\";\n",
      "}"
     ],
     "language": "python",
     "metadata": {},
     "outputs": [
      {
       "output_type": "stream",
       "stream": "stdout",
       "text": [
        "0 1 1 2 3 5 8 13 21 34 \n",
        "\n"
       ]
      }
     ],
     "prompt_number": 31
    },
    {
     "cell_type": "code",
     "collapsed": false,
     "input": [
      "%%psl_create_test /Users/tiverson/Desktop/sample-test-suite/test_case\n",
      "# deffun defines a recursive function\n",
      "deffun fib(n)\n",
      "  # operators like + and == are prefix\n",
      "  if <(n, 1) then 0 else\n",
      "  if ==(n, 1) then 1 else\n",
      "  +(fib(-(n, 1)), fib(-(n, 2)))\n",
      "# The in ends the function body in a deffun, which can be followed by\n",
      "# another deffun, a defvar, or a braced expression\n",
      "in\n",
      "# defvar creates a new variable with an initial value, bound inside the\n",
      "# body of the defvar\n",
      "defvar x = 0 in {\n",
      "  # For loops have an initialization, a test, an update, and a body\n",
      "  for(x = 0; <(x,10); x++) {\n",
      "    # print takes any value and displays it\n",
      "    print(fib(x));\n",
      "    print(\" \");\n",
      "  };\n",
      "  # The result of the program is the value of the last expression\n",
      "  # evaluated.  It is printed, so we avoid printing it by terminating the\n",
      "  # program with a \"\"\n",
      "  \"\";\n",
      "}"
     ],
     "language": "python",
     "metadata": {},
     "outputs": [],
     "prompt_number": 39
    },
    {
     "cell_type": "code",
     "collapsed": false,
     "input": [
      "%%bash\n",
      "echo \"*******PSL FILE*******\"\n",
      "more /Users/tiverson/Desktop/sample-test-suite/test_case.psl\n",
      "echo \"*******EXPECTED RESULTS FILE*******\"\n",
      "more /Users/tiverson/Desktop/sample-test-suite/test_case.psl.expected\n",
      "echo \"*******ERROR FILE*******\"\n",
      "more /Users/tiverson/Desktop/sample-test-suite/test_case.psl.error"
     ],
     "language": "python",
     "metadata": {},
     "outputs": [
      {
       "output_type": "stream",
       "stream": "stdout",
       "text": [
        "*******PSL FILE*******\n",
        "# deffun defines a recursive function\n",
        "deffun fib(n)\n",
        "  # operators like + and == are prefix\n",
        "  if <(n, 1) then 0 else\n",
        "  if ==(n, 1) then 1 else\n",
        "  +(fib(-(n, 1)), fib(-(n, 2)))\n",
        "# The in ends the function body in a deffun, which can be followed by\n",
        "# another deffun, a defvar, or a braced expression\n",
        "in\n",
        "# defvar creates a new variable with an initial value, bound inside the\n",
        "# body of the defvar\n",
        "defvar x = 0 in {\n",
        "  # For loops have an initialization, a test, an update, and a body\n",
        "  for(x = 0; <(x,10); x++) {\n",
        "    # print takes any value and displays it\n",
        "    print(fib(x));\n",
        "    print(\" \");\n",
        "  };\n",
        "  # The result of the program is the value of the last expression\n",
        "  # evaluated.  It is printed, so we avoid printing it by terminating the\n",
        "  # program with a \"\"\n",
        "  \"\";\n",
        "}*******EXPECTED RESULTS FILE*******\n",
        "0 1 1 2 3 5 8 13 21 34 \n",
        "*******ERROR FILE*******\n"
       ]
      }
     ],
     "prompt_number": 40
    },
    {
     "cell_type": "code",
     "collapsed": false,
     "input": [
      "%psl_run_tests /Users/tiverson/Desktop/sample-test-suite/"
     ],
     "language": "python",
     "metadata": {},
     "outputs": [
      {
       "output_type": "stream",
       "stream": "stdout",
       "text": [
        "bindings1:\n",
        "Bug not found!\n",
        "bindings2:\n",
        "Differences in:\n",
        "/Users/tiverson/Desktop/sample-test-suite/test_case.psl\n",
        "\n",
        "bindings3:\n",
        "Differences in:\n",
        "/Users/tiverson/Desktop/sample-test-suite/test_case.psl\n",
        "/Users/tiverson/Desktop/sample-test-suite/functions/func5.psl\n",
        "\n",
        "bindings4:\n",
        "Bug not found!\n",
        "functions1:\n",
        "Differences in:\n",
        "/Users/tiverson/Desktop/sample-test-suite/functions/func5.psl\n",
        "\n",
        "functions2:\n",
        "Bug not found!\n",
        "functions3:\n",
        "Differences in:\n",
        "/Users/tiverson/Desktop/sample-test-suite/test_case.psl\n",
        "\n",
        "if-then-else1:\n",
        "Bug not found!\n",
        "if-then-else2:\n",
        "Bug not found!\n",
        "if-then-else3:\n",
        "Differences in:\n",
        "/Users/tiverson/Desktop/sample-test-suite/if1.psl\n",
        "/Users/tiverson/Desktop/sample-test-suite/test_case.psl\n",
        "\n",
        "loops1:\n",
        "Bug not found!\n",
        "loops2:\n",
        "Differences in:\n",
        "/Users/tiverson/Desktop/sample-test-suite/test_case.psl\n",
        "\n",
        "loops3:\n",
        "Bug not found!\n",
        "loops4:\n",
        "Differences in:\n",
        "/Users/tiverson/Desktop/sample-test-suite/test_case.psl\n",
        "\n",
        "loops5:\n",
        "Bug not found!\n",
        "objects1:\n",
        "Bug not found!\n",
        "objects2:\n",
        "Bug not found!\n",
        "objects3:\n",
        "Bug not found!\n",
        "objects4:\n",
        "Bug not found!\n",
        "operators1:\n",
        "Differences in:\n",
        "/Users/tiverson/Desktop/sample-test-suite/test_case.psl\n",
        "\n",
        "operators2:\n",
        "Bug not found!\n",
        "operators2:\n",
        "Bug not found!\n",
        "operators3:\n",
        "Bug not found!\n",
        "sequence1:\n",
        "Differences in:\n",
        "/Users/tiverson/Desktop/sample-test-suite/test_case.psl\n",
        "\n",
        "sequence2:\n",
        "Differences in:\n",
        "/Users/tiverson/Desktop/sample-test-suite/test_case.psl\n",
        "\n",
        "You found bugs in 10/25 interpreters.\n",
        "\n",
        "\n"
       ]
      }
     ],
     "prompt_number": 41
    },
    {
     "cell_type": "code",
     "collapsed": false,
     "input": [],
     "language": "python",
     "metadata": {},
     "outputs": []
    }
   ],
   "metadata": {}
  }
 ]
}