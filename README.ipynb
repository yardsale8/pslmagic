{
 "metadata": {
  "name": "",
  "signature": "sha256:895bbce753ed44a24228512876875b0c24677a72af3b8f063d836f370c841369"
 },
 "nbformat": 3,
 "nbformat_minor": 0,
 "worksheets": [
  {
   "cells": [
    {
     "cell_type": "markdown",
     "metadata": {},
     "source": [
      "# ParselTongue Magic\n",
      "\n",
      "This python module adds ipython magic for the ParselTongue language that is part of the [online programming languages class](http://cs.brown.edu/courses/csci1730/2012/OnLine/) run at Brown.\n",
      "\n",
      "You can install this module using `pip` as follows\n",
      "    pip install pslmagic\n",
      "    \n",
      "    \n",
      "## Notes for Windows Users\n",
      "If you intend to use this module on Windows, you will need the do the following\n",
      "\n",
      "1) install and have `bash` on your PATH.  An acceptable version of bash is included in the Git for Windows installer, make sure to select **Use Git and optional Unix tools for the Windows Command Prompt**\n",
      "\n",
      "2) Use relative addresses when registering the executable and specifying the test file base (see below).\n",
      "\n",
      "## Using `pslmagic`\n",
      "The first step when using `pslmagic` is to start the ipython notebook, preferably from the command line in the test folder.\n",
      "\n",
      "    ipython notebook\n",
      "\n",
      "### Load the magic\n",
      "Start a new notebook and run the following command to load `palmagic`"
     ]
    },
    {
     "cell_type": "code",
     "collapsed": false,
     "input": [
      "%reload_ext pslmagic"
     ],
     "language": "python",
     "metadata": {},
     "outputs": [
      {
       "output_type": "stream",
       "stream": "stdout",
       "text": [
        "WARNING:Please register the address of the ParselTongue executable            using %psl_exe <address>\n"
       ]
      }
     ],
     "prompt_number": 3
    },
    {
     "cell_type": "markdown",
     "metadata": {},
     "source": [
      "### Register the ParselTongue interpreter(s)\n",
      "You need to download the parseltongue interpreter from the [Brown CS1730 page](http://cs.brown.edu/courses/csci1730/2012/Assignments/ParselTest/Software/)\n",
      "\n",
      "Then, call the `psl_exe` to register the address for the execuable (*Use a relative address for Windows*)"
     ]
    },
    {
     "cell_type": "code",
     "collapsed": false,
     "input": [
      "%psl_exe /Users/tiverson/Desktop/osx-dist/bin/assignment1-osx"
     ],
     "language": "python",
     "metadata": {},
     "outputs": [],
     "prompt_number": 4
    },
    {
     "cell_type": "markdown",
     "metadata": {},
     "source": [
      "### Line magic to evaluate short commands\n",
      "\n",
      "You can evaluate a single line of ParselTongue using the `psl` magic.  A single % indicates *line* magic"
     ]
    },
    {
     "cell_type": "code",
     "collapsed": false,
     "input": [
      "%psl +(40, 2)"
     ],
     "language": "python",
     "metadata": {},
     "outputs": [
      {
       "output_type": "stream",
       "stream": "stdout",
       "text": [
        "42\n",
        "\n"
       ]
      }
     ],
     "prompt_number": 5
    },
    {
     "cell_type": "markdown",
     "metadata": {},
     "source": [
      "### Errors are thrown as python exceptions "
     ]
    },
    {
     "cell_type": "code",
     "collapsed": false,
     "input": [
      "%psl 5;7"
     ],
     "language": "python",
     "metadata": {},
     "outputs": [
      {
       "ename": "SyntaxError",
       "evalue": "Encountered error while parsing, near: \"\" [line=#f, column=#f, position=#f]\n",
       "output_type": "pyerr",
       "traceback": [
        "\u001b[0;36m  File \u001b[0;32m\"<string>\"\u001b[0;36m, line \u001b[0;32munknown\u001b[0m\n\u001b[0;31mSyntaxError\u001b[0m\u001b[0;31m:\u001b[0m Encountered error while parsing, near: \"\" [line=#f, column=#f, position=#f]\n\n"
       ]
      }
     ],
     "prompt_number": 4
    },
    {
     "cell_type": "markdown",
     "metadata": {},
     "source": [
      "### Use cell magic to evaluate longer programs\n",
      "You can type a whole cell of ParselTongue using the `%%psl` cell magic.  The double % are used to indicate cell magic, and the remainder of the current cell will be considered ParselTongue."
     ]
    },
    {
     "cell_type": "code",
     "collapsed": false,
     "input": [
      "%%psl\n",
      "# deffun defines a recursive function\n",
      "deffun fib(n)\n",
      "  # operators like + and == are prefix\n",
      "  if <(n, 1) then 0 else\n",
      "  if ==(n, 1) then 1 else\n",
      "  +(fib(-(n, 1)), fib(-(n, 2)))\n",
      "# The in ends the function body in a deffun, which can be followed by\n",
      "# another deffun, a defvar, or a braced expression\n",
      "in\n",
      "# defvar creates a new variable with an initial value, bound inside the\n",
      "# body of the defvar\n",
      "defvar x = 0 in {\n",
      "  # For loops have an initialization, a test, an update, and a body\n",
      "  for(x = 0; <(x,10); x++) {\n",
      "    # print takes any value and displays it\n",
      "    print(fib(x));\n",
      "    print(\" \");\n",
      "  };\n",
      "  # The result of the program is the value of the last expression\n",
      "  # evaluated.  It is printed, so we avoid printing it by terminating the\n",
      "  # program with a \"\"\n",
      "  \"\";\n",
      "}"
     ],
     "language": "python",
     "metadata": {},
     "outputs": [
      {
       "output_type": "stream",
       "stream": "stdout",
       "text": [
        "0 1 1 2 3 5 8 13 21 34 \n",
        "\n"
       ]
      }
     ],
     "prompt_number": 5
    },
    {
     "cell_type": "markdown",
     "metadata": {},
     "source": [
      "### Create tests for the test suite\n",
      "\n",
      "You can create a test for your test suite using the `%%psl_create_test` magic.  The first argument (on the `%%psl_create_test line`) is the base file name.  Three files will be created\n",
      "\n",
      "\n",
      "1) base.psl - contains the code in the cell\n",
      "\n",
      "2) base.psl.expected - creates the output when running the code vs. the correct interpreter.\n",
      "\n",
      "3) base.psl.error - contains any errors generated when running vs. the correct interpreter"
     ]
    },
    {
     "cell_type": "code",
     "collapsed": false,
     "input": [
      "%%psl_create_test test_case\n",
      "# deffun defines a recursive function\n",
      "deffun fib(n)\n",
      "  # operators like + and == are prefix\n",
      "  if <(n, 1) then 0 else\n",
      "  if ==(n, 1) then 1 else\n",
      "  +(fib(-(n, 1)), fib(-(n, 2)))\n",
      "# The in ends the function body in a deffun, which can be followed by\n",
      "# another deffun, a defvar, or a braced expression\n",
      "in\n",
      "# defvar creates a new variable with an initial value, bound inside the\n",
      "# body of the defvar\n",
      "defvar x = 0 in {\n",
      "  # For loops have an initialization, a test, an update, and a body\n",
      "  for(x = 0; <(x,10); x++) {\n",
      "    # print takes any value and displays it\n",
      "    print(fib(x));\n",
      "    print(\" \");\n",
      "  };\n",
      "  # The result of the program is the value of the last expression\n",
      "  # evaluated.  It is printed, so we avoid printing it by terminating the\n",
      "  # program with a \"\"\n",
      "  \"\";\n",
      "}"
     ],
     "language": "python",
     "metadata": {},
     "outputs": [],
     "prompt_number": 6
    },
    {
     "cell_type": "markdown",
     "metadata": {},
     "source": [
      "To inspect the resulting files, run the following commands"
     ]
    },
    {
     "cell_type": "code",
     "collapsed": false,
     "input": [
      "%%bash\n",
      "echo \"*******PSL FILE*******\"\n",
      "less test_case.psl\n",
      "echo \"*******EXPECTED RESULTS FILE*******\"\n",
      "less test_case.psl.expected\n",
      "echo \"*******ERROR FILE*******\"\n",
      "less test_case.psl.error"
     ],
     "language": "python",
     "metadata": {},
     "outputs": [
      {
       "output_type": "stream",
       "stream": "stdout",
       "text": [
        "*******PSL FILE*******\n",
        "# deffun defines a recursive function\n",
        "deffun fib(n)\n",
        "  # operators like + and == are prefix\n",
        "  if <(n, 1) then 0 else\n",
        "  if ==(n, 1) then 1 else\n",
        "  +(fib(-(n, 1)), fib(-(n, 2)))\n",
        "# The in ends the function body in a deffun, which can be followed by\n",
        "# another deffun, a defvar, or a braced expression\n",
        "in\n",
        "# defvar creates a new variable with an initial value, bound inside the\n",
        "# body of the defvar\n",
        "defvar x = 0 in {\n",
        "  # For loops have an initialization, a test, an update, and a body\n",
        "  for(x = 0; <(x,10); x++) {\n",
        "    # print takes any value and displays it\n",
        "    print(fib(x));\n",
        "    print(\" \");\n",
        "  };\n",
        "  # The result of the program is the value of the last expression\n",
        "  # evaluated.  It is printed, so we avoid printing it by terminating the\n",
        "  # program with a \"\"\n",
        "  \"\";\n",
        "}*******EXPECTED RESULTS FILE*******\n",
        "0 1 1 2 3 5 8 13 21 34 \n",
        "*******ERROR FILE*******\n"
       ]
      }
     ],
     "prompt_number": 7
    },
    {
     "cell_type": "markdown",
     "metadata": {},
     "source": [
      "### Run the test suite versus the 25 incorrect interpreters\n",
      "You can run your test suite versus the 25 incorrect interpreters using the `%psl_run_tests` magic.  The first argument is the address of the execuable (again using relative addresses on Windows)"
     ]
    },
    {
     "cell_type": "code",
     "collapsed": false,
     "input": [
      "%psl_run_tests /Users/tiverson/Desktop/sample-test-suite/"
     ],
     "language": "python",
     "metadata": {},
     "outputs": [
      {
       "output_type": "stream",
       "stream": "stdout",
       "text": [
        "bindings1:\n",
        "Bug not found!\n",
        "bindings2:\n",
        "Differences in:\n",
        "/Users/tiverson/Desktop/sample-test-suite/test_case.psl\n",
        "\n",
        "bindings3:\n",
        "Differences in:\n",
        "/Users/tiverson/Desktop/sample-test-suite/test_case.psl\n",
        "/Users/tiverson/Desktop/sample-test-suite/functions/func5.psl\n",
        "\n",
        "bindings4:\n",
        "Bug not found!\n",
        "functions1:\n",
        "Differences in:\n",
        "/Users/tiverson/Desktop/sample-test-suite/functions/func5.psl\n",
        "\n",
        "functions2:\n",
        "Bug not found!\n",
        "functions3:\n",
        "Differences in:\n",
        "/Users/tiverson/Desktop/sample-test-suite/test_case.psl\n",
        "\n",
        "if-then-else1:\n",
        "Bug not found!\n",
        "if-then-else2:\n",
        "Bug not found!\n",
        "if-then-else3:\n",
        "Differences in:\n",
        "/Users/tiverson/Desktop/sample-test-suite/if1.psl\n",
        "/Users/tiverson/Desktop/sample-test-suite/test_case.psl\n",
        "\n",
        "loops1:\n",
        "Bug not found!\n",
        "loops2:\n",
        "Differences in:\n",
        "/Users/tiverson/Desktop/sample-test-suite/test_case.psl\n",
        "\n",
        "loops3:\n",
        "Bug not found!\n",
        "loops4:\n",
        "Differences in:\n",
        "/Users/tiverson/Desktop/sample-test-suite/test_case.psl\n",
        "\n",
        "loops5:\n",
        "Bug not found!\n",
        "objects1:\n",
        "Bug not found!\n",
        "objects2:\n",
        "Bug not found!\n",
        "objects3:\n",
        "Bug not found!\n",
        "objects4:\n",
        "Bug not found!\n",
        "operators1:\n",
        "Differences in:\n",
        "/Users/tiverson/Desktop/sample-test-suite/test_case.psl\n",
        "\n",
        "operators2:\n",
        "Bug not found!\n",
        "operators2:\n",
        "Bug not found!\n",
        "operators3:\n",
        "Bug not found!\n",
        "sequence1:\n",
        "Differences in:\n",
        "/Users/tiverson/Desktop/sample-test-suite/test_case.psl\n",
        "\n",
        "sequence2:\n",
        "Differences in:\n",
        "/Users/tiverson/Desktop/sample-test-suite/test_case.psl\n",
        "\n",
        "You found bugs in 10/25 interpreters.\n",
        "\n",
        "\n"
       ]
      }
     ],
     "prompt_number": 8
    },
    {
     "cell_type": "markdown",
     "metadata": {},
     "source": [
      "## Run versus a single interpreter with `psl_run_single`\n",
      "\n",
      "You can use the line magic `psl_run_single` to run a test suite against just one interpreter.  The two arguments for this magic are the interpreter name (see `psl_run_tests` output) and the directory\n",
      "\n",
      "    %psl_run_single <interp-name> <director>"
     ]
    },
    {
     "cell_type": "code",
     "collapsed": false,
     "input": [
      "%psl_run_single if-then-else3 /Users/tiverson/Desktop/sample-test-suite/"
     ],
     "language": "python",
     "metadata": {},
     "outputs": [
      {
       "output_type": "stream",
       "stream": "stdout",
       "text": [
        "if-then-else3:\n",
        " 2 tests succeeded.\n",
        "2 tests failed.\n",
        "== Output of failed tests ==\n",
        "=====================================================\n",
        "=   Results for /Users/tiverson/Desktop/sample-test-suite/if1.psl   =\n",
        "=====================================================\n",
        "=== Expected stdout ===\n",
        "passed\n",
        "passed\n",
        "passed\n",
        "passed\n",
        "\n",
        "\n",
        "=== Actual stdout ===\n",
        "failed\n",
        "passed\n",
        "failed\n",
        "failed\n",
        "\n",
        "\n",
        "=== Expected stderr ===\n",
        "\n",
        "=== Actual stderr ===\n",
        "\n",
        "=====================================================\n",
        "=   Results for /Users/tiverson/Desktop/sample-test-suite/test_case.psl   =\n",
        "=====================================================\n",
        "=== Expected stdout ===\n",
        "0 1 1 2 3 5 8 13 21 34 \n",
        "\n",
        "=== Actual stdout ===\n",
        "\n",
        "\n",
        "=== Expected stderr ===\n",
        "\n",
        "=== Actual stderr ===\n",
        "\n",
        "\n",
        "You found bugs in 1/1 interpreters.\n",
        "\n",
        "\n"
       ]
      }
     ],
     "prompt_number": 8
    }
   ],
   "metadata": {}
  }
 ]
}